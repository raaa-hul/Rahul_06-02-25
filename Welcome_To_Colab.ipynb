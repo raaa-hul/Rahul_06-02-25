{
  "cells": [
    {
      "cell_type": "markdown",
      "metadata": {
        "id": "view-in-github",
        "colab_type": "text"
      },
      "source": [
        "<a href=\"https://colab.research.google.com/github/raaa-hul/Rahul_06-02-25/blob/main/Welcome_To_Colab.ipynb\" target=\"_parent\"><img src=\"https://colab.research.google.com/assets/colab-badge.svg\" alt=\"Open In Colab\"/></a>"
      ]
    },
    {
      "cell_type": "code",
      "source": [
        "import requests\n",
        "from bs4 import BeautifulSoup\n",
        "\n",
        "url = 'https://en.wikipedia.org/wiki/UST_(company)'\n",
        "\n",
        "response = requests.get(url)\n",
        "if response.status_code == 200:\n",
        "    soup = BeautifulSoup(response.content, 'html.parser')\n",
        "\n",
        "    content_div = soup.find('div', {'id': 'mw-content-text'})\n",
        "\n",
        "    paragraphs = content_div.find_all(['p','ul','h1','h2','h3'])\n",
        "\n",
        "    article_text = '\\n'.join([para.get_text() for para in paragraphs])\n",
        "\n",
        "    print(article_text)\n",
        "else:\n",
        "    print(f\"Failed to retrieve the webpage. Status code: {response.status_code}\")\n",
        "\n"
      ],
      "metadata": {
        "colab": {
          "base_uri": "https://localhost:8080/"
        },
        "id": "DkORAo2dqVxl",
        "outputId": "0ba179bf-4ae2-4fcd-8edb-ec2e37daea39"
      },
      "execution_count": 2,
      "outputs": [
        {
          "output_type": "stream",
          "name": "stdout",
          "text": [
            "\n",
            "\n",
            "Professional servicesInformation technologyDigital engineeringProduct development\n",
            "Stephen Ross & G. A. Menon\n",
            "Paras Chandaria[3] (Executive Chairman)Krishna Sudheendra[4](CEO)Arun Narayanan[5](President)\n",
            "Digital transformationTechnology and digital consultingNextGen cloud infrastructure (private, public, hybrid cloud)Human-centered designCybersecurity\n",
            "CyberProofUST HealthProofUST Product EngineeringCogniphi TechnologiesXpanxion\n",
            "UST, formerly known as UST Global, is a provider of digital technology and transformation, information technology and services, headquartered in Aliso Viejo, California, United States.[7] Stephen Ross founded UST in 1998 in Laguna Hills.[8] The company has offices in the Americas, EMEA, APAC, and India.[9][10][11]\n",
            "\n",
            "In June 2018, Temasek, Singapore’s sovereign wealth fund, invested US$250 million in UST, giving UST a US$1 billion-plus valuation.[12]\n",
            "\n",
            "Services\n",
            "UST offers services in many areas including: \n",
            "\n",
            "digital transformation,[13] cybersecurity, data analytics, data engineering, technology and digital consulting, supply chain management, cloud infrastructure, developer productivity, quality engineering, IT talent sourcing, innovation as a service, legacy modernization, human-centered design, AMS, semiconductor engineering, IOT engineering, intelligent process automation, artificial intelligence, machine learning, and technology strategy, intelligent automation and BPaaS.[14] Examples of specific services include:\n",
            "\n",
            "Cloud\n",
            "In 2020, UST released UST CloudDesk and UST MultiCloud Manager.[15] UST CloudDesk enables enterprises to move workloads between different cloud platforms. UST MultiCloud Manager, an IT-as-a-service platform, allows users to have a zero-touch, single-pane view of their entire IT environment.[16]\n",
            "\n",
            "DevOps\n",
            "UST offers development and operational services such as data management, analysis, and automation for DevSecOps, and digital and cloud transformation.[17] This includes PACE, a product used for implementing and optimizing cloud-native DevOps.[18]\n",
            "\n",
            "In July 2020, UST invested in Smart Software Testing Solutions (SSTS) Inc. to incorporate intelligent testing and digital validation for its Software Validation and Test Automation.[19] SSTS's platforms allow testers to perform manual and automation testing on more than 5000 device-browser combinations.[19]\n",
            "\n",
            "Cybersecurity\n",
            "In July 2020, UST's company CyberProof became an official member of the Microsoft Intelligent Security Association.[20] CyberProof monitors security alerts and suspicious events collected from internal and external customer data sources and detects threats in cloud and on-premises infrastructure threats.[21]\n",
            "\n",
            "Acquisitions\n",
            "UST invests and acquires companies.[22]\n",
            "\n",
            "In January 2004, UST acquired eBuilt Inc.[23]\n",
            "In March 2012, Andare, a mobile applications company, was acquired by UST.[24] In January 2014, the company acquired Testhouse Consultores S.A., the Spanish arm of UK-based Testhouse Limited.[25][26]\n",
            "In May 2014, UST acquired Kanchi Technologies, a Milwaukee-based engineering company, and Xpanxion, a technology firm.[27][28] Xpanxion provides cloud-based business application development, mobile application development, software testing services, and technology and business consulting.[29]\n",
            "In July 2014, UST invested in xTV, an online TV platform, and acquired Renaissance Solutions, a Singapore-based recruitment specialist.[30][31] In April 2015, UST acquired FogPanel to boost cloud infrastructure management.[32]\n",
            "In September 2017, UST invested in MyDoc, a Singapore-based digital healthcare firm, to drive population-wide digital health programs, including disease management and health data tracking.[33]\n",
            "In January 2018, Cyberpoof, a cybersecurity company of UST, acquired Bisec, an Israeli startup that created a platform to help security teams collaborate.[34] The following month, UST acquired American technology startup and Gartner Cool Vendor, Pneuron in an effort to improve its data analytics services.[35][36] In September 2018, UST acquired SeviTech Systems, a chip design services firm based in Bengaluru.[37]\n",
            "In October 2019, the company acquired SCM Accelerators to help grow its SAP business.[19][38]\n",
            "In November 2019, UST acquired Contineo Health, a healthcare technology consulting firm that specializes in electronic health records (EHR), ComplyUSA, a compliance assessment and privacy automation platform, and AI startup, Cogniphi Technologies.[39][19][40]\n",
            "In December 2019, Necsia Cybersecurity Division was acquired.[19] The company is a security provider in Spain and the security division of Necsia Group, specializing in cybersecurity and digital transformation services.[41] The company was merged into the CyberProof security services portfolio after the acquisition.[41]\n",
            "In June 2020, UST invested €1.3 million in Ksubaka, a UK-based startup. The portfolio includes gamified tools to engage and keep customers safe post-covid.[42][43] The following month, UST invested in Smart Software Testing Solutions, a software testing and product company, that utilizes SaaS platforms pCloudy and OpKey.[19][44]\n",
            "In August 2020, UST invested in Tastry, an AI company that studies how human senses interpret product chemistry.[45]\n",
            "In July 2022, UST announced a strategic investment in Well-Beat, an Israeli start-up with a focus on patient-centred behavioural artificial intelligence (AI).[46]\n",
            "In October 2022, UST HealthProof, a UST company, has acquired Advantasure a Blue Cross Blue Shield - BCBS (M)[47] arm from MI, USA.  The Advantasure is a new brand formed in 2019 under BCBSM comprising other periodic and strategic acquisitions like Visiant, IkaSystems, Tessellate among many others.  The Advantasure is a PaaS platform for both Healthcare and BPO clients.\n",
            "Temasek\n",
            "In June 2018, Temasek, Singapore's sovereign wealth fund, invested $250 million in UST, giving UST a $1 billion-plus valuation.[48]\n",
            "Campuses\n",
            "UST is based in Orange County, California and has offices in more than 25 countries. It is based in the following regions: the Americas, EMEA, APAC, and India.[10][11]\n",
            "\n",
            "UST has started its expansion plans in India in the capital city of Kerala, Thiruvananthapuram, with the construction of its own campus, near Technopark.[49]  The campus is spread over 36 acres (150,000 m2).  The campus will also feature a 12-acre (49,000 m2) waterbody channeling through the various blocks of the campus.\n",
            "\n",
            "Subsidiaries\n",
            "CyberProof\n",
            "CyberProof is a fully owned subsidiary of UST and founded in 2017 in Tel Aviv, Israel.[50]\n",
            "\n",
            "The company is a security services company.\n",
            "\n",
            "In January 2018, UST acquired BISEC, a cybersecurity company, for 5.8 million Dollars and integrated the technology into CyberProof.[51]\n",
            "\n",
            "CyberProof is headquartered in Aliso Viejo, California, United States and has regional offices in London, United Kingdom; Trivandrum; Singapore and Barcelona, Spain. As of 2021, the company has approximately 500 employees worldwide. Although it has several offices, its operations have been primarily based in Tel Aviv, Israel, since its founding.\n",
            "\n",
            "Tony Velleca is the chief executive officer of CyberProof and is a chief information security officer at UST. Yuval Wollman is President of CyberProof and is responsible for the company's Israel-based Development & Operations.\n",
            "\n",
            "HealthProof\n",
            "UST HealthProof is the healthcare technology division of UST. In 2023, UST HealthProof acquired healthcare technology company Advantasure.[52]\n",
            "\n",
            "Controversy\n",
            "In early 2008, California arbitrators ruled that US Technology Resources, LLC must pay Stephen J. Ross US $7.5 million for his founding interest in the company. The company had disputed the extent of Ross's actual contributions. The arbitration award was then confirmed by the Los Angeles Superior Court and judgment entered in Ross' favor.[53]\n",
            "\n",
            "References\n"
          ]
        }
      ]
    },
    {
      "cell_type": "code",
      "source": [
        "from bs4 import BeautifulSoup\n",
        "from transformers import BartForConditionalGeneration, BartTokenizer\n",
        "\n",
        "model = BartForConditionalGeneration.from_pretrained('facebook/bart-large-cnn')\n",
        "tokenizer = BartTokenizer.from_pretrained('facebook/bart-large-cnn')\n",
        "\n",
        "inputs = tokenizer([article_text], return_tensors='pt', max_length=1024, truncation=True)\n",
        "\n",
        "summary_ids = model.generate(\n",
        "    inputs['input_ids'],\n",
        "    max_length=150,\n",
        "    min_length=100,\n",
        "    length_penalty=0.5,\n",
        "    num_beams=6,\n",
        "    early_stopping=True\n",
        ")\n",
        "\n",
        "summary = tokenizer.decode(summary_ids[0], skip_special_tokens=True)\n",
        "\n",
        "print(\"\\nSummarized Text:\\n\", summary)\n"
      ],
      "metadata": {
        "colab": {
          "base_uri": "https://localhost:8080/"
        },
        "id": "84F5UW9_5GOQ",
        "outputId": "13733548-6dbd-4c60-e90d-f8b13eed83ab"
      },
      "execution_count": 4,
      "outputs": [
        {
          "output_type": "stream",
          "name": "stdout",
          "text": [
            "\n",
            "Summarized Text:\n",
            " UST, formerly known as UST Global, is a provider of digital technology and transformation, information technology and services, headquartered in Aliso Viejo, California, United States. Stephen Ross founded UST in 1998 in Laguna Hills. The company has offices in the Americas, EMEA, APAC, and India. In June 2018, Temasek, Singapore’s sovereign wealth fund, invested US$250 million in UST, giving UST a US$1 billion-plus valuation.UST offers services in many areas including: cybersecurity, data analytics, data engineering, technology and digital consulting, supply chain management, cloud infrastructure, developer productivity, quality engineering, IT talent sourcing, innovation as a service, legacy modernization, human-centered design, AMS, semiconductor engineering, IOT engineering, intelligent process automation, artificial intelligence, machine learning, and technology strategy. In July 2020, UST's company CyberProof became an official member of the Microsoft Intelligent Security Association.\n"
          ]
        }
      ]
    }
  ],
  "metadata": {
    "colab": {
      "name": "Welcome To Colab",
      "provenance": [],
      "gpuType": "T4",
      "include_colab_link": true
    },
    "kernelspec": {
      "display_name": "Python 3",
      "name": "python3"
    },
    "accelerator": "GPU"
  },
  "nbformat": 4,
  "nbformat_minor": 0
}